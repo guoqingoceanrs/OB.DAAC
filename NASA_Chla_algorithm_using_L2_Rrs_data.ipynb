{
 "cells": [
  {
   "cell_type": "markdown",
   "id": "f84ea84b",
   "metadata": {},
   "source": [
    "The NASA Standard Chlorophyll product calculated from L2 Rrs data\n",
    "This script describes the chlorophyll algorithm in python code"
   ]
  },
  {
   "cell_type": "code",
   "execution_count": 1,
   "id": "7b06e84b",
   "metadata": {},
   "outputs": [],
   "source": [
    "import warnings\n",
    "warnings.filterwarnings(\"ignore\")"
   ]
  },
  {
   "cell_type": "code",
   "execution_count": 2,
   "id": "852ad922",
   "metadata": {},
   "outputs": [],
   "source": [
    "# Imports\n",
    "import netCDF4   as nc                     # pip install netCDF4\n",
    "import xarray as xr                   # pip install xarray\n",
    "import cmocean                        # pip install cmocean\n",
    "import os\n",
    "import numpy as np\n",
    "import matplotlib.pyplot as plt\n",
    "\n",
    "import cartopy\n",
    "from cartopy.mpl.ticker import LongitudeFormatter, LatitudeFormatter"
   ]
  },
  {
   "cell_type": "code",
   "execution_count": 3,
   "id": "89fc5caf",
   "metadata": {},
   "outputs": [],
   "source": [
    "# Open the datasets with xarray\n",
    "filename = 'AQUA_MODIS.20221007T175001.L2.OC.nc'\n",
    "\n",
    "# Load attributes\n",
    "ds_geo = xr.open_dataset(filename, group='geophysical_data') \n",
    "ds_nav = xr.open_dataset(filename, group='navigation_data')"
   ]
  },
  {
   "cell_type": "code",
   "execution_count": 5,
   "id": "f5633017",
   "metadata": {},
   "outputs": [
    {
     "name": "stdout",
     "output_type": "stream",
     "text": [
      "Data variables:\n",
      "    aot_869   (number_of_lines, pixels_per_line) float32 ...\n",
      "    angstrom  (number_of_lines, pixels_per_line) float32 ...\n",
      "    Rrs_412   (number_of_lines, pixels_per_line) float32 ...\n",
      "    Rrs_443   (number_of_lines, pixels_per_line) float32 ...\n",
      "    Rrs_469   (number_of_lines, pixels_per_line) float32 ...\n",
      "    Rrs_488   (number_of_lines, pixels_per_line) float32 ...\n",
      "    Rrs_531   (number_of_lines, pixels_per_line) float32 ...\n",
      "    Rrs_547   (number_of_lines, pixels_per_line) float32 ...\n",
      "    Rrs_555   (number_of_lines, pixels_per_line) float32 ...\n",
      "    Rrs_645   (number_of_lines, pixels_per_line) float32 ...\n",
      "    Rrs_667   (number_of_lines, pixels_per_line) float32 ...\n",
      "    Rrs_678   (number_of_lines, pixels_per_line) float32 ...\n",
      "    chlor_a   (number_of_lines, pixels_per_line) float32 ...\n",
      "    Kd_490    (number_of_lines, pixels_per_line) float32 ...\n",
      "    pic       (number_of_lines, pixels_per_line) float32 ...\n",
      "    poc       (number_of_lines, pixels_per_line) float32 ...\n",
      "    ipar      (number_of_lines, pixels_per_line) float32 ...\n",
      "    nflh      (number_of_lines, pixels_per_line) float32 ...\n",
      "    par       (number_of_lines, pixels_per_line) float32 ...\n",
      "    l2_flags  (number_of_lines, pixels_per_line) int32 ...\n"
     ]
    }
   ],
   "source": [
    "print(ds_geo.data_vars)"
   ]
  },
  {
   "cell_type": "code",
   "execution_count": null,
   "id": "f6db1167",
   "metadata": {},
   "outputs": [],
   "source": [
    "# read Rrs data\n",
    "Rrs412 = ds_geo.Rrs_412\n",
    "Rrs443 = ds_geo.Rrs_443\n",
    "Rrs488 = ds_geo.Rrs_488\n",
    "Rrs531 = ds_geo.Rrs_531\n",
    "Rrs547 = ds_geo.Rrs_547\n",
    "Rrs667 = ds_geo.Rrs_667"
   ]
  },
  {
   "cell_type": "code",
   "execution_count": null,
   "id": "25aa6583",
   "metadata": {},
   "outputs": [],
   "source": [
    "# OC4 for MODIS-Aqua;\n",
    "# reference: \n"
   ]
  },
  {
   "cell_type": "code",
   "execution_count": null,
   "id": "d6ea0677",
   "metadata": {},
   "outputs": [],
   "source": [
    "# OCI\n",
    "# reference: Hu et al., 2021, \n"
   ]
  }
 ],
 "metadata": {
  "kernelspec": {
   "display_name": "Python 3 (ipykernel)",
   "language": "python",
   "name": "python3"
  },
  "language_info": {
   "codemirror_mode": {
    "name": "ipython",
    "version": 3
   },
   "file_extension": ".py",
   "mimetype": "text/x-python",
   "name": "python",
   "nbconvert_exporter": "python",
   "pygments_lexer": "ipython3",
   "version": "3.11.5"
  }
 },
 "nbformat": 4,
 "nbformat_minor": 5
}
