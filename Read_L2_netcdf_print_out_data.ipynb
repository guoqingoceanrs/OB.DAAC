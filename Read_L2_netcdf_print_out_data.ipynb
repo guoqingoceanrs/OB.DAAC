{
 "cells": [
  {
   "cell_type": "markdown",
   "id": "ee6bcf46",
   "metadata": {},
   "source": [
    "**Download, read, and view level 2 ocean color data**"
   ]
  },
  {
   "cell_type": "code",
   "execution_count": 17,
   "id": "0b75cc32",
   "metadata": {},
   "outputs": [],
   "source": [
    "# Imports\n",
    "import netCDF4   as nc                     # pip install netCDF4\n"
   ]
  },
  {
   "cell_type": "markdown",
   "id": "e78bb4f6",
   "metadata": {},
   "source": [
    "**Download file**\n",
    "In this example, I will use the MODIS_AQUA L2 OC file on April 30, 2023 (AQUA_MODIS.20221007T175001.L2.OC.nc).\n",
    "\n",
    "Specify your **appkey**, and add it to the end of the url\n",
    "<br>\n",
    "[Generate appkey for your Earthdata login credential](https://oceancolor.gsfc.nasa.gov/data/download_methods/) and update the variable \"key\" correspondingly."
   ]
  },
  {
   "cell_type": "code",
   "execution_count": 18,
   "id": "fbcb3be8",
   "metadata": {},
   "outputs": [
    {
     "data": {
      "text/plain": [
       "('AQUA_MODIS.20221007T175001.L2.OC.nc',\n",
       " <http.client.HTTPMessage at 0x7f8aeba51270>)"
      ]
     },
     "execution_count": 18,
     "metadata": {},
     "output_type": "execute_result"
    }
   ],
   "source": [
    "key = 'f129bf8bcc6cfad58c2cb4e4ce04095ef7371a74'\n",
    "filename = 'AQUA_MODIS.20221007T175001.L2.OC.nc'\n",
    "urls = r'https://oceandata.sci.gsfc.nasa.gov/ob/getfile/%s?appkey=%s'%(filename, key)\n",
    "\n",
    "urllib.request.urlretrieve(urls, filename)\n"
   ]
  },
  {
   "cell_type": "markdown",
   "id": "514c2121",
   "metadata": {},
   "source": [
    "**2. Loading a NetCDF Dataset** <br>\n",
    "NetCDF files can be read with a few different Python modules. The most popular are netCDF4 and gdal. For this article we’ll focus strictly on netCDF4 as it is my personal preference.<br>\n",
    "Installation is simple. I generally recommend using the anaconda Python distribution to eliminate the confusion that can come with dependencies and versioning. To install with anaconda (conda) simply type conda install netCDF4. Alternatively, you can install with pip.<br>\n",
    "Loading a dataset is simple, just pass a NetCDF file path to netCDF4.Dataset()."
   ]
  },
  {
   "cell_type": "code",
   "execution_count": 19,
   "id": "802d3d91",
   "metadata": {},
   "outputs": [],
   "source": [
    "# open file and print the metadata\n",
    "f = nc.Dataset(filename, 'r')\n"
   ]
  },
  {
   "cell_type": "markdown",
   "id": "2887c327",
   "metadata": {},
   "source": [
    "A NetCDF file has three basic parts: metadata, dimensions and variables. Variables contain both metadata and data. netCDF4 allows us to access the metadata and data associated with a NetCDF file.\n",
    "\n",
    "**Access Metadata**\n",
    "Printing the dataset, ds, gives us information about the variables contained in the file and their dimensions."
   ]
  },
  {
   "cell_type": "code",
   "execution_count": 20,
   "id": "d99866df",
   "metadata": {},
   "outputs": [
    {
     "name": "stdout",
     "output_type": "stream",
     "text": [
      "<class 'netCDF4._netCDF4.Dataset'>\n",
      "root group (NETCDF4 data model, file format HDF5):\n",
      "    title: MODISA Level-2 Data\n",
      "    product_name: AQUA_MODIS.20221007T175001.L2.OC.nc\n",
      "    processing_version: R2022.0\n",
      "    equatorCrossingLongitude: 107.35993\n",
      "    orbit_number: 108659\n",
      "    history: l2gen par=/data19/sdpsoper/vdc/vpu38/workbuf/A2022280175000.L1B_LAC.param metafile=AQUA_MODIS.20221007T175001.L2.OC.nc.meta\n",
      "    instrument: MODIS\n",
      "    platform: Aqua\n",
      "    Conventions: CF-1.6 ACDD-1.3\n",
      "    license: https://science.nasa.gov/earth-science/earth-science-data/data-information-policy/\n",
      "    naming_authority: gov.nasa.gsfc.sci.oceandata\n",
      "    id: R2022.0/L2/AQUA_MODIS.20221007T175001.L2.OC.nc\n",
      "    date_created: 2022-11-29T16:08:55.000Z\n",
      "    keywords_vocabulary: NASA Global Change Master Directory (GCMD) Science Keywords\n",
      "    keywords: Earth Science > Oceans > Ocean Optics > Ocean Color\n",
      "    standard_name_vocabulary: CF Standard Name Table v36\n",
      "    institution: NASA Goddard Space Flight Center, Ocean Ecology Laboratory, Ocean Biology Processing Group\n",
      "    creator_name: NASA/GSFC/OBPG\n",
      "    creator_email: data@oceancolor.gsfc.nasa.gov\n",
      "    creator_url: https://oceandata.sci.gsfc.nasa.gov\n",
      "    project: Ocean Biology Processing Group (NASA/GSFC/OBPG)\n",
      "    publisher_name: NASA/GSFC/OBPG\n",
      "    publisher_url: https://oceandata.sci.gsfc.nasa.gov\n",
      "    publisher_email: data@oceancolor.gsfc.nasa.gov\n",
      "    identifier_product_doi_authority: http://dx.doi.org\n",
      "    identifier_product_doi: 10.5067/AQUA/MODIS/L2/OC/2022\n",
      "    processing_level: L2\n",
      "    cdm_data_type: swath\n",
      "    equatorCrossingDateTime: 2022-10-07T18:31:34.643Z\n",
      "    spatialResolution: 1 km\n",
      "    time_coverage_start: 2022-10-07T17:50:01.477Z\n",
      "    time_coverage_end: 2022-10-07T17:54:59.854Z\n",
      "    start_center_longitude: -66.70454\n",
      "    start_center_latitude: 28.26412\n",
      "    end_center_longitude: -72.15332\n",
      "    end_center_latitude: 46.206642\n",
      "    northernmost_latitude: 47.412445\n",
      "    southernmost_latitude: 26.05069\n",
      "    easternmost_longitude: -54.84424\n",
      "    westernmost_longitude: -86.26568\n",
      "    geospatial_lat_units: degrees_north\n",
      "    geospatial_lon_units: degrees_east\n",
      "    geospatial_lat_max: 47.412445\n",
      "    geospatial_lat_min: 26.05069\n",
      "    geospatial_lon_max: -54.84424\n",
      "    geospatial_lon_min: -86.26568\n",
      "    startDirection: Ascending\n",
      "    endDirection: Ascending\n",
      "    day_night_flag: Day\n",
      "    earth_sun_distance_correction: 1.001212239265442\n",
      "    dimensions(sizes): number_of_lines(2030), pixels_per_line(1354), bands_per_pixel(16), number_of_reflectance_location_values(10), pixel_control_points(1354), number_of_bands(24), number_of_reflective_bands(16)\n",
      "    variables(dimensions): \n",
      "    groups: sensor_band_parameters, scan_line_attributes, geophysical_data, navigation_data, processing_control\n"
     ]
    }
   ],
   "source": [
    "print (f)"
   ]
  },
  {
   "cell_type": "markdown",
   "id": "6e85a15a",
   "metadata": {},
   "source": [
    "Above you can see information for the file format, data source, data version, citation, dimensions, and variables. The variables are put in different groups, the ones that we are interested in, such as lat, lon, Rrs, Chla, etc. are in \"geophysical_data\"."
   ]
  },
  {
   "cell_type": "code",
   "execution_count": 21,
   "id": "8273b0ba",
   "metadata": {},
   "outputs": [
    {
     "name": "stdout",
     "output_type": "stream",
     "text": [
      "dict_keys(['sensor_band_parameters', 'scan_line_attributes', 'geophysical_data', 'navigation_data', 'processing_control'])\n"
     ]
    }
   ],
   "source": [
    "## print grouped variables\n",
    "print(f.groups.keys())\n",
    "\n",
    "# Metadata can also be accessed as a Python dictionary\n",
    "#print(f.__dict__)\n",
    "\n",
    "#Then any metadata item can be accessed with its key. For example:\n",
    "\n",
    "# print(f.__dict__['product_name'])\n"
   ]
  },
  {
   "cell_type": "markdown",
   "id": "35c5872c",
   "metadata": {},
   "source": [
    "**Dimensions**\n",
    "Access to dimensions is similar to file metadata. Each dimension is stored as a dimension class which contains pertinent information. Metadata for all dimensions can be access by looping through all available dimensions, like so."
   ]
  },
  {
   "cell_type": "code",
   "execution_count": 22,
   "id": "26ab20a7",
   "metadata": {},
   "outputs": [
    {
     "name": "stdout",
     "output_type": "stream",
     "text": [
      "<class 'netCDF4._netCDF4.Dimension'>: name = 'number_of_lines', size = 2030\n",
      "<class 'netCDF4._netCDF4.Dimension'>: name = 'pixels_per_line', size = 1354\n",
      "<class 'netCDF4._netCDF4.Dimension'>: name = 'bands_per_pixel', size = 16\n",
      "<class 'netCDF4._netCDF4.Dimension'>: name = 'number_of_reflectance_location_values', size = 10\n",
      "<class 'netCDF4._netCDF4.Dimension'>: name = 'pixel_control_points', size = 1354\n",
      "<class 'netCDF4._netCDF4.Dimension'>: name = 'number_of_bands', size = 24\n",
      "<class 'netCDF4._netCDF4.Dimension'>: name = 'number_of_reflective_bands', size = 16\n"
     ]
    }
   ],
   "source": [
    "for dim in f.dimensions.values():\n",
    "    print(dim)\n",
    "    \n",
    "# Individual dimensions are accessed like so: f.dimensions['x']."
   ]
  },
  {
   "cell_type": "markdown",
   "id": "b1775416",
   "metadata": {},
   "source": [
    "**Variable Metadata**\n",
    "Access variable metadata in the group of \"geophysical_data\". The code below shows how this is done. I’ve forgone the output because it is quite lengthy."
   ]
  },
  {
   "cell_type": "code",
   "execution_count": 23,
   "id": "bbf83b3e",
   "metadata": {},
   "outputs": [
    {
     "name": "stdout",
     "output_type": "stream",
     "text": [
      "dict_keys(['aot_869', 'angstrom', 'Rrs_412', 'Rrs_443', 'Rrs_469', 'Rrs_488', 'Rrs_531', 'Rrs_547', 'Rrs_555', 'Rrs_645', 'Rrs_667', 'Rrs_678', 'chlor_a', 'Kd_490', 'pic', 'poc', 'ipar', 'nflh', 'par', 'l2_flags'])\n"
     ]
    }
   ],
   "source": [
    "#print(f.groups['geophysical_data'].variables)\n",
    "# if you just want to see the variable names, use the following code\n",
    "print(f.groups['geophysical_data'].variables.keys())"
   ]
  },
  {
   "cell_type": "markdown",
   "id": "dd520bad",
   "metadata": {},
   "source": [
    "Access Data Values\n",
    "The actual precipitation data values are accessed by array indexing, and a numpy array is returned. All variable data is returned as follows:"
   ]
  },
  {
   "cell_type": "code",
   "execution_count": 24,
   "id": "bfd74252",
   "metadata": {},
   "outputs": [
    {
     "name": "stdout",
     "output_type": "stream",
     "text": [
      "<class 'netCDF4._netCDF4.Variable'>\n",
      "float32 chlor_a(number_of_lines, pixels_per_line)\n",
      "    long_name: Chlorophyll Concentration, OCI Algorithm\n",
      "    units: mg m^-3\n",
      "    standard_name: mass_concentration_of_chlorophyll_in_sea_water\n",
      "    _FillValue: -32767.0\n",
      "    valid_min: 0.001\n",
      "    valid_max: 100.0\n",
      "    reference: Hu, C., Lee Z., and Franz, B.A. (2012). Chlorophyll-a algorithms for oligotrophic oceans: A novel approach based on three-band reflectance difference, J. Geophys. Res., 117, C01011, doi:10.1029/2011JC007395.\n",
      "path = /geophysical_data\n",
      "unlimited dimensions: \n",
      "current shape = (2030, 1354)\n",
      "filling on\n"
     ]
    }
   ],
   "source": [
    "# metadata of variable: chlor_a\n",
    "print(f.groups['geophysical_data'].variables['chlor_a'])"
   ]
  },
  {
   "cell_type": "code",
   "execution_count": 25,
   "id": "9f1a7b22",
   "metadata": {},
   "outputs": [
    {
     "name": "stdout",
     "output_type": "stream",
     "text": [
      "[[0.01556490734219551 0.01509102713316679 0.015974054113030434 ... --\n",
      "  0.20154109597206116 0.18869897723197937]\n",
      " [0.01652761548757553 0.015768131241202354 0.015580163337290287 ... -- --\n",
      "  --]\n",
      " [0.015834644436836243 0.01573110558092594 0.01611599512398243 ... -- --\n",
      "  --]\n",
      " ...\n",
      " [-- 2.553077220916748 1.7888909578323364 ... -- -- --]\n",
      " [-- 4.523899078369141 3.566077470779419 ... -- -- --]\n",
      " [-- 2.478635549545288 2.4827561378479004 ... -- -- --]]\n"
     ]
    }
   ],
   "source": [
    "# value of chlor_a\n",
    "chlor_a = f.groups['geophysical_data'].variables['chlor_a'][:]\n",
    "print(chlor_a)"
   ]
  },
  {
   "cell_type": "code",
   "execution_count": null,
   "id": "8f4008dc",
   "metadata": {},
   "outputs": [],
   "source": []
  },
  {
   "cell_type": "code",
   "execution_count": null,
   "id": "0cc63546",
   "metadata": {},
   "outputs": [],
   "source": []
  }
 ],
 "metadata": {
  "kernelspec": {
   "display_name": "Python 3 (ipykernel)",
   "language": "python",
   "name": "python3"
  },
  "language_info": {
   "codemirror_mode": {
    "name": "ipython",
    "version": 3
   },
   "file_extension": ".py",
   "mimetype": "text/x-python",
   "name": "python",
   "nbconvert_exporter": "python",
   "pygments_lexer": "ipython3",
   "version": "3.10.9"
  }
 },
 "nbformat": 4,
 "nbformat_minor": 5
}
